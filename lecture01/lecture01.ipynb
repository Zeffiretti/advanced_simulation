{
 "metadata": {
  "language_info": {
   "codemirror_mode": {
    "name": "ipython",
    "version": 3
   },
   "file_extension": ".py",
   "mimetype": "text/x-python",
   "name": "python",
   "nbconvert_exporter": "python",
   "pygments_lexer": "ipython3",
   "version": "3.8.10"
  },
  "orig_nbformat": 2,
  "kernelspec": {
   "name": "python3810jvsc74a57bd048c40bf0b7e70b78940e04778bbd07caa1b10f31c6c60770da56fea5fb44933a",
   "display_name": "Python 3.8.10 64-bit ('taichi': conda)"
  },
  "metadata": {
   "interpreter": {
    "hash": "af3883a45aebe4e004790f024aee2042f06f70bffe688adbc12049bd7df574a7"
   }
  }
 },
 "nbformat": 4,
 "nbformat_minor": 2,
 "cells": [
  {
   "cell_type": "code",
   "execution_count": 1,
   "metadata": {},
   "outputs": [
    {
     "output_type": "stream",
     "name": "stdout",
     "text": [
      "hello world\n"
     ]
    }
   ],
   "source": [
    "print(\"hello world\")"
   ]
  },
  {
   "cell_type": "code",
   "execution_count": 3,
   "metadata": {},
   "outputs": [
    {
     "output_type": "stream",
     "name": "stdout",
     "text": [
      "[Taichi] mode=release\n",
      "[Taichi] version 0.7.20, llvm 10.0.0, commit 284f75ed, win, python 3.8.10\n",
      "[Taichi] Starting on arch=opengl\n"
     ]
    }
   ],
   "source": [
    "import taichi as ti\n",
    "ti.init(arch=ti.gpu)"
   ]
  },
  {
   "cell_type": "code",
   "execution_count": 1,
   "metadata": {},
   "outputs": [
    {
     "output_type": "stream",
     "name": "stdout",
     "text": [
      "[Taichi] mode=release\n",
      "[Taichi] version 0.7.20, llvm 10.0.0, commit 284f75ed, win, python 3.8.10\n",
      "[Taichi] Starting on arch=opengl\n",
      "[Taichi] materializing...\n"
     ]
    }
   ],
   "source": [
    "import taichi as ti\n",
    "\n",
    "ti.init(arch=ti.gpu)\n",
    "\n",
    "n=320\n",
    "pixels = ti.field(dtype=ti.f32, shape=(n*2, n))\n",
    "\n",
    "@ti.kernel\n",
    "def paint(t: ti.f32):\n",
    "    for i,j in pixels:\n",
    "        pixels[i, j] = i * 0.001 + j * 0.002 + t\n",
    "\n",
    "paint(0.3)"
   ]
  },
  {
   "cell_type": "code",
   "execution_count": 10,
   "metadata": {},
   "outputs": [
    {
     "output_type": "stream",
     "name": "stdout",
     "text": [
      "[Taichi] Starting on arch=opengl\n",
      "[Taichi] materializing...\n",
      "a[3,4] =  1.0\n",
      "b[0] =  0.0 0.0 0.0\n",
      "3.0\n"
     ]
    }
   ],
   "source": [
    "import taichi as ti\n",
    "\n",
    "ti.init(arch=ti.gpu)\n",
    "\n",
    "a=ti.field(dtype=ti.f32, shape=(42,63))\n",
    "b=ti.Vector.field(3,dtype=ti.f32, shape=4)\n",
    "C=ti.Matrix.field(2,2,dtype=ti.f32, shape=(5,5))\n",
    "\n",
    "loss=ti.field(dtype=ti.f32, shape=())\n",
    "\n",
    "a[3,4]=1\n",
    "print(\"a[3,4] = \", a[3,4])\n",
    "\n",
    "b[2]=[6,7,8]\n",
    "print(\"b[0] = \", b[0][0], b[0][1], b[0][2])\n",
    "\n",
    "loss[None]=3\n",
    "print(loss[None])"
   ]
  },
  {
   "cell_type": "code",
   "execution_count": 2,
   "metadata": {},
   "outputs": [
    {
     "output_type": "stream",
     "name": "stdout",
     "text": [
      "[Taichi] Starting on arch=x64\n[Taichi] materializing...\n"
     ]
    }
   ],
   "source": [
    "# fractal.py\n",
    "\n",
    "import taichi as ti\n",
    "\n",
    "ti.init(arch=ti.cpu)\n",
    "\n",
    "n = 320\n",
    "pixels = ti.field(dtype=ti.f32, shape=(n * 2, n))\n",
    "\n",
    "@ti.func\n",
    "def complex_sqr(z):\n",
    "  return ti.Vector([z[0] ** 2 - z[1] ** 2, z[1] * z[0] * 2])\n",
    "\n",
    "@ti.kernel\n",
    "def paint(t: ti.f32):\n",
    "  for i, j in pixels: # 对于所有像素，并行执行\n",
    "    c = ti.Vector([-0.8, ti.sin(t) * 0.2])\n",
    "    z = ti.Vector([float(i) / n - 1, float(j) / n - 0.5]) * 2\n",
    "    iterations = 0\n",
    "    while z.norm() < 20 and iterations < 50:\n",
    "      z = complex_sqr(z) + c\n",
    "      iterations += 1\n",
    "    pixels[i, j] = 1 - iterations * 0.02\n",
    "\n",
    "gui = ti.GUI(\"Fractal\", (n * 2, n))\n",
    "\n",
    "for i in range(10000):\n",
    "  paint(i * 0.03)\n",
    "  gui.set_image(pixels)\n",
    "  gui.show()"
   ]
  },
  {
   "cell_type": "code",
   "execution_count": null,
   "metadata": {},
   "outputs": [],
   "source": []
  }
 ]
}