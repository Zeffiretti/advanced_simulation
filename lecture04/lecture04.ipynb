{
 "cells": [
  {
   "cell_type": "markdown",
   "source": [
    "## Eulerian Fluid Simulation\n",
    "*still sensors that never moves*\n",
    "- Eulerian representation uses still sensors in space, usually arranged in a\n",
    " regular grid/triangular mesh.\n",
    "- A bit of math - but not too much."
   ],
   "metadata": {
    "collapsed": true,
    "pycharm": {
     "name": "#%% md\n"
    }
   }
  },
  {
   "cell_type": "markdown",
   "source": [
    "### Overview\n",
    "#### Material Derivatives: Lagrangian v.s. Eulerian (材料导数，物质导数)\n",
    "\n",
    "$\n",
    "\\displaystyle\\frac{D}{Dt} := \\frac{\\partial}{\\partial t}+{\\rm u}\\cdot\\nabla\n",
    "$\n",
    "\n",
    "E.g.,<br>\n",
    "$\\begin{array}{rcl}\n",
    "\\displaystyle\\frac{DT}{Dt} & = & \\displaystyle\\frac{\\partial T}{\\partial t}+{\\rm u}\\cdot\\nabla T \\\\\n",
    "\\displaystyle\\frac{D{\\rm u}_{x}}{Dt} & = & \\displaystyle\\frac{\\partial {\\rm u}_{x}}{\\partial t}+{\\rm u}\\cdot\\nabla {\\rm u}_{x}\n",
    "\\end{array}$\n",
    "<br>\n",
    "\n",
    "${\\rm u}$: material (fluid) velocity. Many other names: Advective/Lagrangian/particle derivative.\n",
    "Intuitively, change of physical quantity on a piece of material =\n",
    "\n",
    "1. change due to time $\\frac{\\partial}{\\partial t}$ (Eulerian).\n",
    "2. change due to material movement ${\\rm u}\\cdot\\nabla$."
   ],
   "metadata": {
    "collapsed": false
   }
  },
  {
   "cell_type": "markdown",
   "source": [
    "#### (Incompressible) Navier-Stokes equations\n",
    "$\n",
    "\\begin{array}{rcl}\n",
    "\\rho\\displaystyle\\frac{D{\\rm u}}{Dt}&=&-\\nabla p+\\mu\\nabla^{2}{\\rm u}+\\rho g \\\\\n",
    "\\displaystyle\\frac{D{\\rm u}}{Dt}&=&-\\displaystyle\\frac{1}{\\rho}\\nabla p+\\nu\\nabla^{2}{\\rm u}+g \\\\\n",
    "\\nabla \\cdot {\\rm u}&=&0\n",
    "\\end{array}$\n",
    "<br>\n",
    "\n",
    "$\\mu$: dynamic viscosity; $\\nu=\\frac{\\mu}{\\rho}$: kinematic viscosity.<br>\n",
    "In graphics we usually drop **viscosity** except for highly viscous materials (e.g., honey)"
   ],
   "metadata": {
    "collapsed": false,
    "pycharm": {
     "name": "#%% md\n"
    }
   }
  },
  {
   "cell_type": "markdown",
   "source": [
    "#### Operator splitting [[More Details](./operator-splitting-wotaoyinsplittingbookch3-macnamara-strangpdf-operator.pdf)]\n",
    "$\n",
    "\\begin{array}{rclc}\n",
    "\\displaystyle\\frac{D{\\rm u}}{Dt}&=&-\\displaystyle\\frac{1}{\\rho}\\nabla p+g,&\\nabla \\cdot {\\rm u}=0\n",
    "\\end{array}$\n",
    "<br>\n",
    "Split the equations above into three parts:\n",
    "\n",
    "$\n",
    "\\begin{array}{rcllr}\n",
    "\\displaystyle\\frac{D{\\rm u}}{Dt}&=&0,\\displaystyle\\frac{D\\alpha}{Dt}=0&(\\mathbf{advection})&(1) \\\\\n",
    "\\displaystyle\\frac{\\partial{\\rm u}}{\\partial t}&=&g&({\\rm external forces, optional})&(2) \\\\\n",
    "\\displaystyle\\frac{\\partial{\\rm u}}{\\partial t}&=&-\\displaystyle\\frac{1}{\\rho}\\nabla p\\qquad s.t.\\quad\\nabla \\cdot {\\rm u}=0&(\\mathbf{projection})&(3)\n",
    "\\end{array}$\n",
    "<br>\n",
    "\n",
    "$\\alpha$: any physical property (temperature, color, smoke density etc.)"
   ],
   "metadata": {
    "collapsed": false,
    "pycharm": {
     "name": "#%% md\n"
    }
   }
  },
  {
   "cell_type": "markdown",
   "source": [
    "#### Eulerian ﬂuid simulation cycle\n",
    "Time discretization with splitting: for each time step,<br>\n",
    "1. Advection: “move” the ﬂuid feld. Solve ${\\rm u}^{*}$ using  ${\\rm u}^{t}$\n",
    "$\n",
    "\\begin{equation}\n",
    "\\displaystyle\\frac{D{\\rm u}}{Dt}=0,\\displaystyle\\frac{D\\alpha}{Dt}=0\n",
    "\\end{equation}\n",
    "$\n",
    "2. External forces (optional): evaluate ${\\rm u}^{**}$ using ${\\rm u}^{*}$\n",
    "$\n",
    "\\begin{equation}\n",
    "\\displaystyle\\frac{\\partial{\\rm u}}{\\partial t}=g\n",
    "\\end{equation}\n",
    "$\n",
    "3. Projection: make velocity field ${\\rm u}^{t+1}$ dicergence-free based on ${\\rm u}^{**}$\n",
    "$\n",
    "\\begin{equation}\n",
    "\\displaystyle\\frac{\\partial{\\rm u}}{\\partial t}=-\\displaystyle\\frac{1}{\\rho}\\nabla p\\qquad s.t.\\quad\\nabla \\cdot{\\rm u}^{t+1}=0\n",
    "\\end{equation}\n",
    "$\n"
   ],
   "metadata": {
    "collapsed": false,
    "pycharm": {
     "name": "#%% md\n"
    }
   }
  },
  {
   "cell_type": "markdown",
   "source": [
    "### Grid\n",
    "#### Spatial discretization using cell-centered grids\n",
    "![fig](./cell-centered-grigs.png)<br>\n",
    "Figure: ${\\rm u}_{x},{\\rm u}_{y},p$ are all stored at the center (orange) of cells\n",
    "\n",
    "```python\n",
    "import taichi as ti\n",
    "n, m = 3, 3\n",
    "u = ti.var(ti.f32, shape=(n, m)) # x-component of velocity\n",
    "v = ti.var(ti.f32, shape=(n, m)) # y-component of velocity\n",
    "p = ti.var(ti.f32, shape=(n, m)) # pressure\n",
    "```"
   ],
   "metadata": {
    "collapsed": false,
    "pycharm": {
     "name": "#%% md\n"
    }
   }
  },
  {
   "cell_type": "markdown",
   "source": [
    "#### Spatial discretization using staggered grids\n",
    "![fig](./staggered-grids.png)<br>\n",
    "Figure: Red: ${\\rm u}_{x}$; Green: ${\\rm u}_{y}$; Orange: $p$.\n",
    "```python\n",
    "import taichi as ti\n",
    "n, m = 3, 3\n",
    "u = ti.var(ti.f32, shape=(n+1, m)) # x-component of velocity\n",
    "v = ti.var(ti.f32, shape=(n, m+1)) # y-component of velocity\n",
    "p = ti.var(ti.f32, shape=(n, m)) # pressure\n",
    "```"
   ],
   "metadata": {
    "collapsed": false,
    "pycharm": {
     "name": "#%% md\n"
    }
   }
  },
  {
   "cell_type": "markdown",
   "source": [
    "#### Bilinear interpolation (双线性插值)\n",
    "![Bilinear interpolation](./bilinearInt.png)<br>\n",
    "Figure: Bilibnear interpolation: value at $(x,y)$ is a weighted average of the four corners.**Source: [Wikipedia](https://en.wikipedia.org/wiki/Bilinear_interpolation)**"
   ],
   "metadata": {
    "collapsed": false,
    "pycharm": {
     "name": "#%% md\n"
    }
   }
  },
  {
   "cell_type": "markdown",
   "source": [
    "### Advection (流动过程)\n",
    "#### Advection schemes\n",
    "A trade-ff between numerical viscosity, stability, performance and complexity:\n",
    "- Semi-Lagrangian advection\n",
    "- MacCormack/BFECC\n",
    "- BiMocq\n",
    "- Particle advection (PIC/FLIP/APIC/PolyPIC, later in this course)\n",
    "- ..."
   ],
   "metadata": {
    "collapsed": false,
    "pycharm": {
     "name": "#%% md\n"
    }
   }
  },
  {
   "cell_type": "markdown",
   "source": [
    "#### Semi-Lagrangian advection\n",
    "![SLA](./semi-lagrangian.png)<br>\n",
    "Figure: What should be the field value atpnow based on the field and velocity at theprevious time step? Well, just let reverse the simulation...\n",
    "\n",
    "```python\n",
    "import taichi as ti\n",
    "@ti.func\n",
    "def semi_lagrangian(x, new_x, dt):\n",
    "    for I in ti.grouped(x):\n",
    "        new_x[I] = sample_bilinear(x, backtrace(I, dt))\n",
    "```"
   ],
   "metadata": {
    "collapsed": false,
    "pycharm": {
     "name": "#%% md\n"
    }
   }
  },
  {
   "cell_type": "markdown",
   "source": [
    "#### What if...\n",
    "![Whatif](what-if.png)<br>\n",
    "Figure: The real trajectory of material parcels can be complex... Red: a naive estimationof last position; Light gree: the true previous position.\n"
   ],
   "metadata": {}
  },
  {
   "cell_type": "code",
   "execution_count": 2,
   "source": [
    "import taichi as ti\r\n",
    "\r\n",
    "ti.init(arch=ti.gpu)\r\n",
    "\r\n",
    "use_mc = False\r\n",
    "mc_clipping = False\r\n",
    "pause = False\r\n",
    "\r\n",
    "# Runge-Kutta order\r\n",
    "rk = 3\r\n",
    "\r\n",
    "n = 512\r\n",
    "x = ti.field(ti.f32, shape=(n, n))\r\n",
    "new_x = ti.field(ti.f32, shape=(n, n))\r\n",
    "new_x_aux = ti.field(ti.f32, shape=(n, n))\r\n",
    "dx = 1 / n\r\n",
    "inv_dx = 1 / dx\r\n",
    "dt = 0.05\r\n",
    "\r\n",
    "stagger = ti.Vector([0.5, 0.5])\r\n",
    "\r\n",
    "\r\n",
    "@ti.func\r\n",
    "def Vector2(x, y):\r\n",
    "    return ti.Vector([x, y])\r\n",
    "\r\n",
    "\r\n",
    "@ti.func\r\n",
    "def inside(p, c, r):\r\n",
    "    return (p - c).norm_sqr() <= r * r\r\n",
    "\r\n",
    "\r\n",
    "@ti.func\r\n",
    "def inside_taichi(p):\r\n",
    "    p = Vector2(0.5, 0.5) + (p - Vector2(0.5, 0.5)) * 1.2\r\n",
    "    ret = -1\r\n",
    "    if not inside(p, Vector2(0.50, 0.50), 0.55):\r\n",
    "        if ret == -1:\r\n",
    "            ret = 0\r\n",
    "    if not inside(p, Vector2(0.50, 0.50), 0.50):\r\n",
    "        if ret == -1:\r\n",
    "            ret = 1\r\n",
    "    if inside(p, Vector2(0.50, 0.25), 0.09):\r\n",
    "        if ret == -1:\r\n",
    "            ret = 1\r\n",
    "    if inside(p, Vector2(0.50, 0.75), 0.09):\r\n",
    "        if ret == -1:\r\n",
    "            ret = 0\r\n",
    "    if inside(p, Vector2(0.50, 0.25), 0.25):\r\n",
    "        if ret == -1:\r\n",
    "            ret = 0\r\n",
    "    if inside(p, Vector2(0.50, 0.75), 0.25):\r\n",
    "        if ret == -1:\r\n",
    "            ret = 1\r\n",
    "    if p[0] < 0.5:\r\n",
    "        if ret == -1:\r\n",
    "            ret = 1\r\n",
    "    else:\r\n",
    "        if ret == -1:\r\n",
    "            ret = 0\r\n",
    "    return ret\r\n",
    "\r\n",
    "\r\n",
    "@ti.kernel\r\n",
    "def paint():\r\n",
    "    for i, j in ti.ndrange(n * 4, n * 4):\r\n",
    "        ret = 1 - inside_taichi(Vector2(i / n / 4, j / n / 4))\r\n",
    "        x[i // 4, j // 4] += ret / 16\r\n",
    "\r\n",
    "\r\n",
    "@ti.func\r\n",
    "def velocity(p):\r\n",
    "    return ti.Vector([p[1] - 0.5, 0.5 - p[0]])\r\n",
    "\r\n",
    "\r\n",
    "@ti.func\r\n",
    "def vec(x, y):\r\n",
    "    return ti.Vector([x, y])\r\n",
    "\r\n",
    "\r\n",
    "@ti.func\r\n",
    "def clamp(p):\r\n",
    "    for d in ti.static(range(p.n)):\r\n",
    "        p[d] = min(1 - 1e-4 - dx + stagger[d] * dx, max(p[d], stagger[d] * dx))\r\n",
    "    return p\r\n",
    "\r\n",
    "\r\n",
    "@ti.func\r\n",
    "def sample_bilinear(x, p):\r\n",
    "    p = clamp(p)\r\n",
    "\r\n",
    "    p_grid = p * inv_dx - stagger\r\n",
    "\r\n",
    "    I = ti.cast(ti.floor(p_grid), ti.i32)\r\n",
    "    f = p_grid - I\r\n",
    "    g = 1 - f\r\n",
    "\r\n",
    "    return x[I] * (g[0] * g[1]) + x[I + vec(1, 0)] * (\r\n",
    "            f[0] * g[1]) + x[I + vec(0, 1)] * (\r\n",
    "                   g[0] * f[1]) + x[I + vec(1, 1)] * (f[0] * f[1])\r\n",
    "\r\n",
    "\r\n",
    "@ti.func\r\n",
    "def sample_min(x, p):\r\n",
    "    p = clamp(p)\r\n",
    "    p_grid = p * inv_dx - stagger\r\n",
    "    I = ti.cast(ti.floor(p_grid), ti.i32)\r\n",
    "\r\n",
    "    return min(x[I], x[I + vec(1, 0)], x[I + vec(0, 1)], x[I + vec(1, 1)])\r\n",
    "\r\n",
    "\r\n",
    "@ti.func\r\n",
    "def sample_max(x, p):\r\n",
    "    p = clamp(p)\r\n",
    "    p_grid = p * inv_dx - stagger\r\n",
    "    I = ti.cast(ti.floor(p_grid), ti.i32)\r\n",
    "\r\n",
    "    return max(x[I], x[I + vec(1, 0)], x[I + vec(0, 1)], x[I + vec(1, 1)])\r\n",
    "\r\n",
    "\r\n",
    "@ti.func\r\n",
    "def backtrace(I, dt):\r\n",
    "    p = (I + stagger) * dx\r\n",
    "    if ti.static(rk == 1):\r\n",
    "        p -= dt * velocity(p)\r\n",
    "    elif ti.static(rk == 2):\r\n",
    "        p_mid = p - 0.5 * dt * velocity(p)\r\n",
    "        p -= dt * velocity(p_mid)\r\n",
    "    elif ti.static(rk == 3):\r\n",
    "        v1 = velocity(p)\r\n",
    "        p1 = p - 0.5 * dt * v1\r\n",
    "        v2 = velocity(p1)\r\n",
    "        p2 = p - 0.75 * dt * v2\r\n",
    "        v3 = velocity(p2)\r\n",
    "        p -= dt * (2 / 9 * v1 + 1 / 3 * v2 + 4 / 9 * v3)\r\n",
    "    else:\r\n",
    "        ti.static_print(f\"RK{rk} is not supported.\")\r\n",
    "\r\n",
    "    return p\r\n",
    "\r\n",
    "\r\n",
    "@ti.func\r\n",
    "def semi_lagrangian(x, new_x, dt):\r\n",
    "    # Note: this loop is parallelized\r\n",
    "    for I in ti.grouped(x):\r\n",
    "        new_x[I] = sample_bilinear(x, backtrace(I, dt))\r\n",
    "\r\n",
    "\r\n",
    "# Reference: https://github.com/ziyinq/Bimocq/blob/master/src/bimocq2D/BimocqSolver2D.cpp\r\n",
    "\r\n",
    "@ti.func\r\n",
    "def maccormack(x, dt):\r\n",
    "    semi_lagrangian(x, new_x, dt)\r\n",
    "    semi_lagrangian(new_x, new_x_aux, -dt)\r\n",
    "\r\n",
    "    for I in ti.grouped(x):\r\n",
    "        new_x[I] = new_x[I] + 0.5 * (x[I] - new_x_aux[I])\r\n",
    "\r\n",
    "        if ti.static(mc_clipping):\r\n",
    "            source_pos = backtrace(I, dt)\r\n",
    "            min_val = sample_min(x, source_pos)\r\n",
    "            max_val = sample_max(x, source_pos)\r\n",
    "\r\n",
    "            if new_x[I] < min_val or new_x[I] > max_val:\r\n",
    "                new_x[I] = sample_bilinear(x, source_pos)\r\n",
    "\r\n",
    "\r\n",
    "@ti.kernel\r\n",
    "def advect():\r\n",
    "    if ti.static(use_mc):\r\n",
    "        maccormack(x, dt)\r\n",
    "    else:\r\n",
    "        semi_lagrangian(x, new_x, dt)\r\n",
    "\r\n",
    "    for I in ti.grouped(x):\r\n",
    "        x[I] = new_x[I]\r\n",
    "\r\n",
    "\r\n",
    "paint()\r\n",
    "\r\n",
    "gui = ti.GUI('Advection schemes', (512, 512))\r\n",
    "\r\n",
    "while not gui.get_event(gui.ESCAPE):\r\n",
    "    while gui.get_event(ti.GUI.PRESS):\r\n",
    "        if gui.event.key in [ti.GUI.ESCAPE, ti.GUI.EXIT]: exit(0)\r\n",
    "        if gui.event.key == ti.GUI.SPACE:\r\n",
    "            pause = not pause\r\n",
    "    if not pause:\r\n",
    "        for i in range(1):\r\n",
    "            advect()\r\n",
    "    if not gui.running:\r\n",
    "        break\r\n",
    "    gui.set_image(x.to_numpy())\r\n",
    "    gui.show()\r\n",
    "    \r\n",
    "from cv2 import imshow\r\n",
    "imshow(x)\r\n",
    "print(\"exit while loop\")"
   ],
   "outputs": [
    {
     "output_type": "stream",
     "name": "stdout",
     "text": [
      "[Taichi] Starting on arch=cuda\n",
      "[Taichi] materializing...\n"
     ]
    },
    {
     "output_type": "error",
     "ename": "error",
     "evalue": "OpenCV(4.5.3) :-1: error: (-5:Bad argument) in function 'imshow'\n> Overload resolution failed:\n>  - imshow() missing required argument 'mat' (pos 2)\n>  - imshow() missing required argument 'mat' (pos 2)\n>  - imshow() missing required argument 'mat' (pos 2)\n",
     "traceback": [
      "\u001b[1;31m---------------------------------------------------------------------------\u001b[0m",
      "\u001b[1;31merror\u001b[0m                                     Traceback (most recent call last)",
      "\u001b[1;32m<ipython-input-2-cb791884c1ed>\u001b[0m in \u001b[0;36m<module>\u001b[1;34m\u001b[0m\n\u001b[0;32m    195\u001b[0m \u001b[1;33m\u001b[0m\u001b[0m\n\u001b[0;32m    196\u001b[0m \u001b[1;32mfrom\u001b[0m \u001b[0mcv2\u001b[0m \u001b[1;32mimport\u001b[0m \u001b[0mimshow\u001b[0m\u001b[1;33m\u001b[0m\u001b[1;33m\u001b[0m\u001b[0m\n\u001b[1;32m--> 197\u001b[1;33m \u001b[0mimshow\u001b[0m\u001b[1;33m(\u001b[0m\u001b[0mx\u001b[0m\u001b[1;33m.\u001b[0m\u001b[0mto_numpy\u001b[0m\u001b[1;33m(\u001b[0m\u001b[1;33m)\u001b[0m\u001b[1;33m)\u001b[0m\u001b[1;33m\u001b[0m\u001b[1;33m\u001b[0m\u001b[0m\n\u001b[0m\u001b[0;32m    198\u001b[0m \u001b[0mprint\u001b[0m\u001b[1;33m(\u001b[0m\u001b[1;34m\"exit while loop\"\u001b[0m\u001b[1;33m)\u001b[0m\u001b[1;33m\u001b[0m\u001b[1;33m\u001b[0m\u001b[0m\n",
      "\u001b[1;31merror\u001b[0m: OpenCV(4.5.3) :-1: error: (-5:Bad argument) in function 'imshow'\n> Overload resolution failed:\n>  - imshow() missing required argument 'mat' (pos 2)\n>  - imshow() missing required argument 'mat' (pos 2)\n>  - imshow() missing required argument 'mat' (pos 2)\n"
     ]
    }
   ],
   "metadata": {}
  },
  {
   "cell_type": "markdown",
   "source": [],
   "metadata": {
    "collapsed": false,
    "pycharm": {
     "name": "#%% md\n"
    }
   }
  }
 ],
 "metadata": {
  "kernelspec": {
   "name": "python3",
   "display_name": "Python 3.8.10 64-bit ('taichi': conda)"
  },
  "language_info": {
   "name": "python",
   "version": "3.8.10",
   "mimetype": "text/x-python",
   "codemirror_mode": {
    "name": "ipython",
    "version": 3
   },
   "pygments_lexer": "ipython3",
   "nbconvert_exporter": "python",
   "file_extension": ".py"
  },
  "interpreter": {
   "hash": "48c40bf0b7e70b78940e04778bbd07caa1b10f31c6c60770da56fea5fb44933a"
  }
 },
 "nbformat": 4,
 "nbformat_minor": 2
}