{
 "cells": [
  {
   "cell_type": "markdown",
   "metadata": {
    "collapsed": true,
    "pycharm": {
     "name": "#%% md\n"
    }
   },
   "source": [
    "## Eulerian Fluid Simulation\n",
    "*still sensors that never moves*\n",
    "- Eulerian representation uses still sensors in space, usually arranged in a\n",
    " regular grid/triangular mesh.\n",
    "- A bit of math - but not too much."
   ]
  },
  {
   "cell_type": "markdown",
   "source": [
    "### Overview\n",
    "#### Material Derivatives: Lagrangian v.s. Eulerian (材料导数，物质导数)\n",
    "\n",
    "\\begin{equation*}\n",
    "\\frac{D}{Dt} := \\frac{\\partial}{\\partial t}+{\\rm u}\\cdot\\nabla\n",
    "\\end{equation*}\n",
    "\n",
    "E.g.,<br>\n",
    "\\begin{equation*}\\begin{array}{rcl}\n",
    "\\displaystyle\\frac{DT}{Dt} & = & \\displaystyle\\frac{\\partial T}{\\partial t}+{\\rm u}\\cdot\\nabla T \\\\\n",
    "\\displaystyle\\frac{D{\\rm u}_{x}}{Dt} & = & \\displaystyle\\frac{\\partial {\\rm u}_{x}}{\\partial t}+{\\rm u}\\cdot\\nabla {\\rm u}_{x}\n",
    "\\end{array}\\end{equation*}<br>\n",
    "${\\rm u}$: material (fluid) velocity. Many other names: Advective/Lagrangian/particle derivative.\n",
    "Intuitively, change of physical quantity on a piece of material =\n",
    "1. change due to time $\\frac{\\partial}{\\partial t}$ (Eulerian).\n",
    "2. change due to material movement ${\\rm u}\\cdot\\nabla$."
   ],
   "metadata": {
    "collapsed": false
   }
  },
  {
   "cell_type": "markdown",
   "source": [
    "#### (Incompressible) Navier-Stokes equations\n",
    "\\begin{array}{rcl}\n",
    "\\rho\\displaystyle\\frac{D{\\rm u}}{Dt}&=&-\\nabla p+\\mu\\nabla^{2}{\\rm u}+\\rho g \\\\\n",
    "\\displaystyle\\frac{D{\\rm u}}{Dt}&=&-\\displaystyle\\frac{1}{\\rho}\\nabla p+\\nu\\nabla^{2}{\\rm u}+g \\\\\n",
    "\\nabla \\cdot {\\rm u}&=&0\n",
    "\\end{array}<br>\n",
    "$\\mu$: dynamic viscosity; $\\nu=\\frac{\\mu}{\\rho}$: kinematic viscosity.<br>\n",
    "In graphics we usually drop **viscosity** except for highly viscous materials (e.g., honey)"
   ],
   "metadata": {
    "collapsed": false,
    "pycharm": {
     "name": "#%% md\n"
    }
   }
  },
  {
   "cell_type": "markdown",
   "source": [
    "#### Operator splitting\n",
    "\\begin{array}{rclc}\n",
    "\\displaystyle\\frac{D{\\rm u}}{Dt}&=&-\\displaystyle\\frac{1}{\\rho}\\nabla p+g,&\\nabla \\cdot {\\rm u}=0\n",
    "\\end{array}<br>\n",
    "Split the equations above into three parts:<br>\n",
    "\\begin{array}{rcllr}\n",
    "\\displaystyle\\frac{D{\\rm u}}{Dt}&=&0,\\displaystyle\\frac{D\\alpha}{Dt}=0&(\\mathbf{advection})&(1) \\\\\n",
    "\\displaystyle\\frac{\\partial{\\rm u}}{\\partial t}&=&g&({\\rm external forces, optional})&(2) \\\\\n",
    "\\displaystyle\\frac{\\partial{\\rm u}}{\\partial t}&=&-\\displaystyle\\frac{1}{\\rho}\\nabla p\\qquad s.t.\\quad\\nabla \\cdot {\\rm u}=0&(\\mathbf{projection})&(3)\n",
    "\\end{array}<br>\n",
    "$\\alpha$: any physical property (temperature, color, smoke density etc.)"
   ],
   "metadata": {
    "collapsed": false,
    "pycharm": {
     "name": "#%% md\n"
    }
   }
  },
  {
   "cell_type": "markdown",
   "source": [
    "#### Eulerian ﬂuid simulation cycle\n",
    "Time discretization with splitting: for each time step,<br>\n",
    "1. Advection: “move” the ﬂuid feld. Solve ${\\rm u}^{*}$ using  ${\\rm u}^{t}$<br>\n",
    "\\begin{equation}\n",
    "\\displaystyle\\frac{D{\\rm u}}{Dt}=0,\\displaystyle\\frac{D\\alpha}{Dt}=0\n",
    "\\end{equation}\n",
    "2. External forces (optional): evaluate ${\\rm u}^{**}$ using ${\\rm u}^{*}$<br>\n",
    "\\begin{equation}\n",
    "\\displaystyle\\frac{\\partial{\\rm u}}{\\partial t}=g\n",
    "\\end{equation}\n",
    "3. Projection: make velocity field ${\\rm u}^{t+1}$ dicergence-free based on ${\\rm u}^{**}$<br>\n",
    "\\begin{equation}\n",
    "\\displaystyle\\frac{\\partial{\\rm u}}{\\partial t}=-\\displaystyle\\frac{1}{\\rho}\\nabla p\\qquad s.t.\\quad\\nabla \\cdot{\\rm u}^{t+1}=0\n",
    "\\end{equation}"
   ],
   "metadata": {
    "collapsed": false,
    "pycharm": {
     "name": "#%% md\n"
    }
   }
  },
  {
   "cell_type": "markdown",
   "source": [
    "### Grid\n",
    "#### Spatial discretization using cell-centered grids\n",
    "![fig](./cell-centered-grigs.png)<br>\n",
    "Figure: ${\\rm u}_{x},{\\rm u}_{y},p$ are all stored at the center (orange) of cells\n",
    "\n",
    "```python\n",
    "import taichi as ti\n",
    "n, m = 3, 3\n",
    "u = ti.var(ti.f32, shape=(n, m)) # x-component of velocity\n",
    "v = ti.var(ti.f32, shape=(n, m)) # y-component of velocity\n",
    "p = ti.var(ti.f32, shape=(n, m)) # pressure\n",
    "```"
   ],
   "metadata": {
    "collapsed": false,
    "pycharm": {
     "name": "#%% md\n"
    }
   }
  },
  {
   "cell_type": "markdown",
   "source": [
    "#### Spatial discretization using staggered grids\n",
    "![fig](./staggered-grids.png)<br>\n",
    "Figure: Red: ${\\rm u}_{x}$; Green: ${\\rm u}_{y}$; Orange: $p$.\n",
    "```python\n",
    "import taichi as ti\n",
    "n, m = 3, 3\n",
    "u = ti.var(ti.f32, shape=(n+1, m)) # x-component of velocity\n",
    "v = ti.var(ti.f32, shape=(n, m+1)) # y-component of velocity\n",
    "p = ti.var(ti.f32, shape=(n, m)) # pressure\n",
    "```"
   ],
   "metadata": {
    "collapsed": false,
    "pycharm": {
     "name": "#%% md\n"
    }
   }
  },
  {
   "cell_type": "markdown",
   "source": [
    "#### Bilinear interpolation (双线性插值)\n",
    "See PDF."
   ],
   "metadata": {
    "collapsed": false,
    "pycharm": {
     "name": "#%% md\n"
    }
   }
  },
  {
   "cell_type": "markdown",
   "source": [
    "### Advection (对流)\n",
    "#### Advection schemes\n",
    "A trade-oﬀ between numerical viscosity, stability, performance and complexity:\n",
    "- Semi-Lagrangian advection\n",
    "- MacCormack/BFECC\n",
    "- BiMocq\n",
    "- Particle advection (PIC/FLIP/APIC/PolyPIC, later in this course)\n",
    "- ..."
   ],
   "metadata": {
    "collapsed": false,
    "pycharm": {
     "name": "#%% md\n"
    }
   }
  },
  {
   "cell_type": "markdown",
   "source": [
    "#### Semi-Lagrangian advection"
   ],
   "metadata": {
    "collapsed": false,
    "pycharm": {
     "name": "#%% md\n"
    }
   }
  }
 ],
 "metadata": {
  "kernelspec": {
   "name": "taichi",
   "language": "python",
   "display_name": "Python (taichi)\n"
  },
  "language_info": {
   "codemirror_mode": {
    "name": "ipython",
    "version": 2
   },
   "file_extension": ".py",
   "mimetype": "text/x-python",
   "name": "python",
   "nbconvert_exporter": "python",
   "pygments_lexer": "ipython2",
   "version": "2.7.6"
  }
 },
 "nbformat": 4,
 "nbformat_minor": 0
}