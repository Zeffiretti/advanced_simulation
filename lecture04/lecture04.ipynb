{
 "cells": [
  {
   "cell_type": "markdown",
   "metadata": {
    "collapsed": true,
    "pycharm": {
     "name": "#%% md\n"
    }
   },
   "source": [
    "## Eulerian Fluid Simulation\n",
    "*still sensors that never moves*\n",
    "- Eulerian representation uses still sensors in space, usually arranged in a\n",
    " regular grid/triangular mesh.\n",
    "- A bit of math - but not too much."
   ]
  },
  {
   "cell_type": "markdown",
   "source": [
    "### Overview\n",
    "#### Material Derivatives: Lagrangian v.s. Eulerian (材料导数，物质导数)\n",
    "\n",
    "\\begin{equation*}\n",
    "\\frac{D}{Dt} := \\frac{\\partial}{\\partial t}+{\\rm u}\\cdot\\nabla\n",
    "\\end{equation*}\n",
    "\n",
    "E.g.,<br>\n",
    "\\begin{equation*}\\begin{array}{rcl}\n",
    "\\displaystyle\\frac{DT}{Dt} & = & \\displaystyle\\frac{\\partial T}{\\partial t}+{\\rm u}\\cdot\\nabla T \\\\\n",
    "\\displaystyle\\frac{D{\\rm u}_{x}}{Dt} & = & \\displaystyle\\frac{\\partial {\\rm u}_{x}}{\\partial t}+{\\rm u}\\cdot\\nabla {\\rm u}_{x}\n",
    "\\end{array}\\end{equation*}<br>\n",
    "${\\rm u}$: material (fluid) velocity. Many other names: Advective/Lagrangian/particle derivative.\n",
    "Intuitively, change of physical quantity on a piece of material =\n",
    "1. change due to time $\\frac{\\partial}{\\partial t}$ (Eulerian).\n",
    "2. change due to material movement ${\\rm u}\\cdot\\nabla$."
   ],
   "metadata": {
    "collapsed": false
   }
  },
  {
   "cell_type": "markdown",
   "source": [
    "#### (Incompressible) Navier-Stokes equations\n",
    "\\begin{array}{rcl}\n",
    "\\rho\\displaystyle\\frac{D{\\rm u}}{Dt}&=&-\\nabla p+\\mu\\nabla^{2}{\\rm u}+\\rho g \\\\\n",
    "\\displaystyle\\frac{D{\\rm u}}{Dt}&=&-\\displaystyle\\frac{1}{\\rho}\\nabla p+\\nu\\nabla^{2}{\\rm u}+g \\\\\n",
    "\\nabla \\cdot {\\rm u}&=&0\n",
    "\\end{array}<br>\n",
    "$\\mu$: dynamic viscosity; $\\nu=\\frac{\\mu}{\\rho}$: kinematic viscosity.<br>\n",
    "In graphics we usually drop **viscosity** except for highly viscous materials (e.g., honey)"
   ],
   "metadata": {
    "collapsed": false,
    "pycharm": {
     "name": "#%% md\n"
    }
   }
  },
  {
   "cell_type": "markdown",
   "source": [
    "#### Operator splitting\n",
    "\\begin{array}{rclc}\n",
    "\\displaystyle\\frac{D{\\rm u}}{Dt}&=&-\\displaystyle\\frac{1}{\\rho}\\nabla p+g,&\\nabla \\cdot {\\rm u}=0\n",
    "\\end{array}<br>\n",
    "Split the equations above into three parts:<br>\n",
    "\\begin{array}{rcllr}\n",
    "\\displaystyle\\frac{D{\\rm u}}{Dt}&=&0,\\displaystyle\\frac{D\\alpha}{Dt}=0&(\\mathbf{advection})&(1) \\\\\n",
    "\\displaystyle\\frac{\\partial{\\rm u}}{\\partial t}&=&g&({\\rm external forces, optional})&(2) \\\\\n",
    "\\displaystyle\\frac{\\partial{\\rm u}}{\\partial t}&=&-\\displaystyle\\frac{1}{\\rho}\\nabla p\\qquad s.t.\\quad\\nabla \\cdot {\\rm u}=0&(\\mathbf{projection})&(3)\n",
    "\\end{array}<br>\n",
    "$\\alpha$: any physical property (temperature, color, smoke density etc.)"
   ],
   "metadata": {
    "collapsed": false,
    "pycharm": {
     "name": "#%% md\n"
    }
   }
  },
  {
   "cell_type": "markdown",
   "source": [
    "#### Eulerian ﬂuid simulation cycle\n",
    "Time discretization with splitting: for each time step,<br>\n",
    "1. Advection: “move” the ﬂuid feld. Solve ${\\rm u}^{*}$ using  ${\\rm u}^{t}$<br>\n",
    "\\begin{equation}\n",
    "\\displaystyle\\frac{D{\\rm u}}{Dt}=0,\\displaystyle\\frac{D\\alpha}{Dt}=0\n",
    "\\end{equation}\n",
    "2. External forces (optional): evaluate ${\\rm u}^{**}$ using ${\\rm u}^{*}$<br>\n",
    "\\begin{equation}\n",
    "\\displaystyle\\frac{\\partial{\\rm u}}{\\partial t}=g\n",
    "\\end{equation}\n",
    "3. Projection: make velocity field ${\\rm u}^{t+1}$ dicergence-free based on ${\\rm u}^{**}$<br>\n",
    "\\begin{equation}\n",
    "\\displaystyle\\frac{\\partial{\\rm u}}{\\partial t}=-\\displaystyle\\frac{1}{\\rho}\\nabla p\\qquad s.t.\\quad\\nabla \\cdot{\\rm u}^{t+1}=0\n",
    "\\end{equation}"
   ],
   "metadata": {
    "collapsed": false,
    "pycharm": {
     "name": "#%% md\n"
    }
   }
  },
  {
   "cell_type": "markdown",
   "source": [
    "### Grid\n",
    "#### Spatial discretization using cell-centered grids\n",
    "![fig](./cell-centered-grigs.png)<br>\n",
    "Figure: ${\\rm u}_{x},{\\rm u}_{y},p$ are all stored at the center (orange) of cells\n",
    "\n",
    "```python\n",
    "import taichi as ti\n",
    "n, m = 3, 3\n",
    "u = ti.var(ti.f32, shape=(n, m)) # x-component of velocity\n",
    "v = ti.var(ti.f32, shape=(n, m)) # y-component of velocity\n",
    "p = ti.var(ti.f32, shape=(n, m)) # pressure\n",
    "```"
   ],
   "metadata": {
    "collapsed": false,
    "pycharm": {
     "name": "#%% md\n"
    }
   }
  },
  {
   "cell_type": "markdown",
   "source": [
    "#### Spatial discretization using staggered grids\n",
    "![fig](./staggered-grids.png)<br>\n",
    "Figure: Red: ${\\rm u}_{x}$; Green: ${\\rm u}_{y}$; Blue: $p$.\n",
    "```python\n",
    "import taichi as ti\n",
    "n, m = 3, 3\n",
    "u = ti.var(ti.f32, shape=(n+1, m)) # x-component of velocity\n",
    "v = ti.var(ti.f32, shape=(n, m+1)) # y-component of velocity\n",
    "p = ti.var(ti.f32, shape=(n, m)) # pressure\n",
    "```"
   ],
   "metadata": {
    "collapsed": false,
    "pycharm": {
     "name": "#%% md\n"
    }
   }
  },
  {
   "cell_type": "markdown",
   "source": [
    "#### Bilinear interpolation (双线性插值)\n",
    "See PDF."
   ],
   "metadata": {
    "collapsed": false,
    "pycharm": {
     "name": "#%% md\n"
    }
   }
  },
  {
   "cell_type": "markdown",
   "source": [
    "### Advection (对流)\n",
    "#### Advection schemes\n",
    "A trade-oﬀ between numerical viscosity, stability, performance and complexity:\n",
    "- Semi-Lagrangian advection\n",
    "- MacCormack/BFECC\n",
    "- BiMocq\n",
    "- Particle advection (PIC/FLIP/APIC/PolyPIC, later in this course)\n",
    "- ..."
   ],
   "metadata": {
    "collapsed": false,
    "pycharm": {
     "name": "#%% md\n"
    }
   }
  },
  {
   "cell_type": "markdown",
   "source": [
    "#### Semi-Lagrangian advection\n",
    "![Semi-Lagrangian](./semi-lagrangian.png)<br>\n",
    "Figure: What should be the field value at **p** now based on the field and velocity\n",
    " at the previous time step? Well, just let reverse the simulation...<br>\n",
    " 对x做semi-lagrangian，将结果存在new_x的代码为：\n",
    "```python\n",
    "import taichi as ti\n",
    "@ti.func\n",
    "def semi_lagrangian(x, new_x , dt):\n",
    "    for I in ti.grouped(x):\n",
    "        new_x[I] = sample_bilinear(x, backtrace(I, dt))\n",
    "```\n",
    "`backtrace(I, dt)`: 求I在dt段时间前的历史位置\n",
    "##### what if ...\n",
    "![what if](./what-if.png)<br>\n",
    "Figure: The real trajectory of material parcels can be complex... Red: a naive estimation\n",
    "of last position; Light gree: the true previous position."
   ],
   "metadata": {
    "collapsed": false,
    "pycharm": {
     "name": "#%% md\n"
    }
   }
  },
  {
   "cell_type": "code",
   "execution_count": 11,
   "outputs": [
    {
     "name": "stdout",
     "output_type": "stream",
     "text": [
      "[Taichi] Starting on arch=cuda\n",
      "[Taichi] materializing...\n"
     ]
    }
   ],
   "source": [
    "import taichi as ti\n",
    "\n",
    "ti.init(arch=ti.gpu)\n",
    "\n",
    "use_mc = True\n",
    "mc_clipping = True\n",
    "pause = False\n",
    "\n",
    "# Runge-Kutta order\n",
    "rk = 3\n",
    "\n",
    "n = 512\n",
    "x = ti.field(ti.f32, shape=(n, n))\n",
    "new_x = ti.field(ti.f32, shape=(n, n))\n",
    "new_x_aux = ti.field(ti.f32, shape=(n, n))\n",
    "dx = 1 / n\n",
    "inv_dx = 1 / dx\n",
    "dt = 0.05\n",
    "\n",
    "stagger = ti.Vector([0.5, 0.5])\n",
    "\n",
    "\n",
    "@ti.func\n",
    "def Vector2(x, y):\n",
    "    return ti.Vector([x, y])\n",
    "\n",
    "\n",
    "@ti.func\n",
    "def inside(p, c, r):\n",
    "    return (p - c).norm_sqr() <= r * r\n",
    "\n",
    "\n",
    "@ti.func\n",
    "def inside_taichi(p):\n",
    "    p = Vector2(0.5, 0.5) + (p - Vector2(0.5, 0.5)) * 1.2\n",
    "    ret = -1\n",
    "    if not inside(p, Vector2(0.50, 0.50), 0.55):\n",
    "        if ret == -1:\n",
    "            ret = 0\n",
    "    if not inside(p, Vector2(0.50, 0.50), 0.50):\n",
    "        if ret == -1:\n",
    "            ret = 1\n",
    "    if inside(p, Vector2(0.50, 0.25), 0.09):\n",
    "        if ret == -1:\n",
    "            ret = 1\n",
    "    if inside(p, Vector2(0.50, 0.75), 0.09):\n",
    "        if ret == -1:\n",
    "            ret = 0\n",
    "    if inside(p, Vector2(0.50, 0.25), 0.25):\n",
    "        if ret == -1:\n",
    "            ret = 0\n",
    "    if inside(p, Vector2(0.50, 0.75), 0.25):\n",
    "        if ret == -1:\n",
    "            ret = 1\n",
    "    if p[0] < 0.5:\n",
    "        if ret == -1:\n",
    "            ret = 1\n",
    "    else:\n",
    "        if ret == -1:\n",
    "            ret = 0\n",
    "    return ret\n",
    "\n",
    "\n",
    "@ti.kernel\n",
    "def paint():\n",
    "    for i, j in ti.ndrange(n * 4, n * 4):\n",
    "        ret = 1 - inside_taichi(Vector2(i / n / 4, j / n / 4))\n",
    "        x[i // 4, j // 4] += ret / 16\n",
    "\n",
    "\n",
    "@ti.func\n",
    "def velocity(p):\n",
    "    return ti.Vector([p[1] - 0.5, 0.5 - p[0]])\n",
    "\n",
    "\n",
    "@ti.func\n",
    "def vec(x, y):\n",
    "    return ti.Vector([x, y])\n",
    "\n",
    "\n",
    "@ti.func\n",
    "def clamp(p):\n",
    "    for d in ti.static(range(p.n)):\n",
    "        p[d] = min(1 - 1e-4 - dx + stagger[d] * dx, max(p[d], stagger[d] * dx))\n",
    "    return p\n",
    "\n",
    "\n",
    "@ti.func\n",
    "def sample_bilinear(x, p):\n",
    "    p = clamp(p)\n",
    "\n",
    "    p_grid = p * inv_dx - stagger\n",
    "\n",
    "    I = ti.cast(ti.floor(p_grid), ti.i32)\n",
    "    f = p_grid - I\n",
    "    g = 1 - f\n",
    "\n",
    "    return x[I] * (g[0] * g[1]) + x[I + vec(1, 0)] * (\n",
    "            f[0] * g[1]) + x[I + vec(0, 1)] * (\n",
    "                   g[0] * f[1]) + x[I + vec(1, 1)] * (f[0] * f[1])\n",
    "\n",
    "\n",
    "@ti.func\n",
    "def sample_min(x, p):\n",
    "    p = clamp(p)\n",
    "    p_grid = p * inv_dx - stagger\n",
    "    I = ti.cast(ti.floor(p_grid), ti.i32)\n",
    "\n",
    "    return min(x[I], x[I + vec(1, 0)], x[I + vec(0, 1)], x[I + vec(1, 1)])\n",
    "\n",
    "\n",
    "@ti.func\n",
    "def sample_max(x, p):\n",
    "    p = clamp(p)\n",
    "    p_grid = p * inv_dx - stagger\n",
    "    I = ti.cast(ti.floor(p_grid), ti.i32)\n",
    "\n",
    "    return max(x[I], x[I + vec(1, 0)], x[I + vec(0, 1)], x[I + vec(1, 1)])\n",
    "\n",
    "\n",
    "@ti.func\n",
    "def backtrace(I, dt):\n",
    "    p = (I + stagger) * dx\n",
    "    if ti.static(rk == 1):\n",
    "        p -= dt * velocity(p)\n",
    "    elif ti.static(rk == 2):\n",
    "        p_mid = p - 0.5 * dt * velocity(p)\n",
    "        p -= dt * velocity(p_mid)\n",
    "    elif ti.static(rk == 3):\n",
    "        v1 = velocity(p)\n",
    "        p1 = p - 0.5 * dt * v1\n",
    "        v2 = velocity(p1)\n",
    "        p2 = p - 0.75 * dt * v2\n",
    "        v3 = velocity(p2)\n",
    "        p -= dt * (2 / 9 * v1 + 1 / 3 * v2 + 4 / 9 * v3)\n",
    "    else:\n",
    "        ti.static_print(f\"RK{rk} is not supported.\")\n",
    "\n",
    "    return p\n",
    "\n",
    "\n",
    "@ti.func\n",
    "def semi_lagrangian(x, new_x, dt):\n",
    "    # Note: this loop is parallelized\n",
    "    for I in ti.grouped(x):\n",
    "        new_x[I] = sample_bilinear(x, backtrace(I, dt))\n",
    "\n",
    "\n",
    "# Reference: https://github.com/ziyinq/Bimocq/blob/master/src/bimocq2D/BimocqSolver2D.cpp\n",
    "\n",
    "@ti.func\n",
    "def maccormack(x, dt):\n",
    "    semi_lagrangian(x, new_x, dt)\n",
    "    semi_lagrangian(new_x, new_x_aux, -dt)\n",
    "\n",
    "    for I in ti.grouped(x):\n",
    "        new_x[I] = new_x[I] + 0.5 * (x[I] - new_x_aux[I])\n",
    "\n",
    "        if ti.static(mc_clipping):\n",
    "            source_pos = backtrace(I, dt)\n",
    "            min_val = sample_min(x, source_pos)\n",
    "            max_val = sample_max(x, source_pos)\n",
    "\n",
    "            if new_x[I] < min_val or new_x[I] > max_val:\n",
    "                new_x[I] = sample_bilinear(x, source_pos)\n",
    "\n",
    "\n",
    "@ti.kernel\n",
    "def advect():\n",
    "    if ti.static(use_mc):\n",
    "        maccormack(x, dt)\n",
    "    else:\n",
    "        semi_lagrangian(x, new_x, dt)\n",
    "\n",
    "    for I in ti.grouped(x):\n",
    "        x[I] = new_x[I]\n",
    "\n",
    "\n",
    "paint()\n",
    "\n",
    "gui = ti.GUI('Advection schemes', (512, 512))\n",
    "\n",
    "while True:\n",
    "    for e in gui.get_events():\n",
    "        if e.key == ti.GUI.EXIT:\n",
    "            break\n",
    "        elif e.key == ti.GUI.PRESS:\n",
    "            pass\n",
    "    if not gui.running:\n",
    "        break\n",
    "\n",
    "    while gui.get_event(ti.GUI.PRESS):\n",
    "        if gui.event.key in [ti.GUI.ESCAPE, ti.GUI.EXIT]: exit(0)\n",
    "        if gui.event.key == ti.GUI.SPACE:\n",
    "            pause = not pause\n",
    "    if not pause:\n",
    "        for i in range(1):\n",
    "            advect()\n",
    "    gui.set_image(x.to_numpy())\n",
    "    gui.show()"
   ],
   "metadata": {
    "collapsed": false,
    "pycharm": {
     "name": "#%%\n"
    }
   }
  },
  {
   "cell_type": "markdown",
   "source": [
    "由于旋转时每次做位置估计都会产生一定误差，导致图案越来越下。（Forward Euler）的弊端\n",
    "#### Going back in time (Demo)\n",
    "Initial value problem (ODE): simply use explicit time integration schemes, e.g.,<br>\n",
    "1. Forward Euler (\"RK1\")<br>\n",
    "`p -= dt * velocity(p)`\n",
    "2. Explicit Midpoint(\"RK2\")<br>\n",
    "```\n",
    "p_mid = p - 0.5 * dt * velocity(p)\n",
    "p -= dt * velocity(p_mid)\n",
    "```\n",
    "3. RK3<br>\n",
    "```\n",
    "v1 = velocity(p)\n",
    "p1 = p - 0.5 * dt * v1\n",
    "v2 = velocity(p1)\n",
    "p2 = p - 0.75 * dt * v2\n",
    "v3 = velocity(p2)\n",
    "p -= dt * (2 / 9 * v1 + 1 / 3 * v2 + 4 / 9 * v3)\n",
    "```"
   ],
   "metadata": {
    "collapsed": false,
    "pycharm": {
     "name": "#%% md\n"
    }
   }
  },
  {
   "cell_type": "markdown",
   "source": [
    "#### BFECC and MacCormack advection schemes\n",
    "BFECC: Back and Forth Error Compensation and Correction\n",
    "- $\\mathbf{x}^{*}={\\rm SL}(\\mathbf{x}, \\Delta t)$\n",
    "- $\\mathbf{x}^{**}={\\rm SL}(\\mathbf{x}^{*}, -\\Delta t)$\n",
    "- Estimate the error $\\mathbf{x^{error}}=\\frac{1}{2}(\\mathbf{x}^{**}-\\mathbf{x})$\n",
    "- Apply the error $\\mathbf{x^{final}}=\\mathbf{x}^{*}+\\mathbf{x^{error}}$\n",
    "\n",
    "Be careful: need to prevent overshooting.<br>\n",
    "先回到过去，得到一个$\\mathbf{x}^{*}$；然后根据$\\mathbf{x}^{*}$预测未来，\n",
    "得到另一个$$\\mathbf{x}^{**}$$。如果SL是准确的，那么应当有\n",
    "$\\mathbf{x}^{*}==\\mathbf{x}^{**}$"
   ],
   "metadata": {
    "collapsed": false,
    "pycharm": {
     "name": "#%% md\n"
    }
   }
  },
  {
   "cell_type": "code",
   "execution_count": 7,
   "outputs": [
    {
     "name": "stdout",
     "output_type": "stream",
     "text": [
      "[Taichi] Starting on arch=cuda\n",
      "[Taichi] materializing...\n"
     ]
    }
   ],
   "source": [
    "import taichi as ti\n",
    "import numpy as np\n",
    "import math\n",
    "\n",
    "ti.init(arch=ti.gpu)\n",
    "\n",
    "eps = 0.01\n",
    "dt = 0.1\n",
    "\n",
    "n_vortex = 4\n",
    "n_tracer = 200000\n",
    "\n",
    "pos = ti.Vector.field(2, ti.f32, shape=n_vortex)\n",
    "new_pos = ti.Vector.field(2, ti.f32, shape=n_vortex)\n",
    "vort = ti.field(ti.f32, shape=n_vortex)\n",
    "\n",
    "tracer = ti.Vector.field(2, ti.f32, shape=n_tracer)\n",
    "\n",
    "\n",
    "@ti.func\n",
    "def compute_u_single(p, i):\n",
    "    r2 = (p - pos[i]).norm() ** 2\n",
    "    uv = ti.Vector([pos[i].y - p.y, p.x - pos[i].x])\n",
    "    return vort[i] * uv / (r2 * math.pi) * 0.5 * (1.0 - ti.exp(-r2 / eps ** 2))\n",
    "\n",
    "\n",
    "@ti.func\n",
    "def compute_u_full(p):\n",
    "    u = ti.Vector([0.0, 0.0])\n",
    "    for i in range(n_vortex):\n",
    "        u += compute_u_single(p, i)\n",
    "    return u\n",
    "\n",
    "\n",
    "@ti.kernel\n",
    "def integrate_vortex():\n",
    "    for i in range(n_vortex):\n",
    "        v = ti.Vector([0.0, 0.0])\n",
    "        for j in range(n_vortex):\n",
    "            if i != j:\n",
    "                v += compute_u_single(pos[i], j)\n",
    "        new_pos[i] = pos[i] + dt * v\n",
    "\n",
    "    for i in range(n_vortex):\n",
    "        pos[i] = new_pos[i]\n",
    "\n",
    "\n",
    "@ti.kernel\n",
    "def advect():\n",
    "    for i in range(n_tracer):\n",
    "        # Ralston's third-order method\n",
    "        p = tracer[i]\n",
    "        v1 = compute_u_full(p)\n",
    "        v2 = compute_u_full(p + v1 * dt * 0.5)\n",
    "        v3 = compute_u_full(p + v2 * dt * 0.75)\n",
    "        tracer[i] += (2 / 9 * v1 + 1 / 3 * v2 + 4 / 9 * v3) * dt\n",
    "\n",
    "\n",
    "pos[0] = [0, 1]\n",
    "pos[1] = [0, -1]\n",
    "pos[2] = [0, 0.3]\n",
    "pos[3] = [0, -0.3]\n",
    "vort[0] = 1\n",
    "vort[1] = -1\n",
    "vort[2] = 1\n",
    "vort[3] = -1\n",
    "\n",
    "\n",
    "@ti.kernel\n",
    "def init_tracers():\n",
    "    for i in range(n_tracer):\n",
    "        tracer[i] = [ti.random() - 0.5, ti.random() * 3 - 1.5]\n",
    "\n",
    "\n",
    "init_tracers()\n",
    "\n",
    "gui = ti.GUI(\"Vortex\", (1024, 512), background_color=0xFFFFFF)\n",
    "\n",
    "for T in range(1000):\n",
    "    for e in gui.get_events():\n",
    "        if e.key == ti.GUI.EXIT:\n",
    "            break\n",
    "        elif e.key == ti.GUI.PRESS:\n",
    "            pass\n",
    "    if not gui.running:\n",
    "        break\n",
    "\n",
    "    for i in range(4):  # substeps\n",
    "        advect()\n",
    "        integrate_vortex()\n",
    "\n",
    "    gui.circles(\n",
    "        tracer.to_numpy() * np.array([[0.05, 0.1]]) + np.array([[0.0, 0.5]]),\n",
    "        radius=0.5,\n",
    "        color=0x0)\n",
    "\n",
    "    gui.show()\n"
   ],
   "metadata": {
    "collapsed": false,
    "pycharm": {
     "name": "#%%\n"
    }
   }
  }
 ],
 "metadata": {
  "kernelspec": {
   "name": "taichi",
   "language": "python",
   "display_name": "Python (taichi)\n"
  },
  "language_info": {
   "codemirror_mode": {
    "name": "ipython",
    "version": 2
   },
   "file_extension": ".py",
   "mimetype": "text/x-python",
   "name": "python",
   "nbconvert_exporter": "python",
   "pygments_lexer": "ipython2",
   "version": "2.7.6"
  }
 },
 "nbformat": 4,
 "nbformat_minor": 0
}