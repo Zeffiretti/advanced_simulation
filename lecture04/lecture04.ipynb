{
 "cells": [
  {
   "cell_type": "markdown",
   "source": [
    "## Eulerian Fluid Simulation\n",
    "*still sensors that never moves*\n",
    "- Eulerian representation uses still sensors in space, usually arranged in a\n",
    " regular grid/triangular mesh.\n",
    "- A bit of math - but not too much."
   ],
   "metadata": {
    "collapsed": true,
    "pycharm": {
     "name": "#%% md\n"
    }
   }
  },
  {
   "cell_type": "markdown",
   "source": [
    "### Overview\r\n",
    "#### Material Derivatives: Lagrangian v.s. Eulerian (材料导数，物质导数)\r\n",
    "\r\n",
    "$$\r\n",
    "\\frac{D}{Dt} := \\frac{\\partial}{\\partial t}+{\\rm u}\\cdot\\nabla\r\n",
    "$$\r\n",
    "\r\n",
    "E.g.,<br>\r\n",
    "$$\r\n",
    "\\begin{array}{rcl}\r\n",
    "\\displaystyle\\frac{DT}{Dt} & = & \\displaystyle\\frac{\\partial T}{\\partial t}+{\\rm u}\\cdot\\nabla T \\\\\r\n",
    "\\displaystyle\\frac{D{\\rm u}_{x}}{Dt} & = & \\displaystyle\\frac{\\partial {\\rm u}_{x}}{\\partial t}+{\\rm u}\\cdot\\nabla {\\rm u}_{x}\r\n",
    "\\end{array}\r\n",
    "$$\r\n",
    "<br>\r\n",
    "\r\n",
    "${\\rm u}$: material (fluid) velocity. Many other names: Advective/Lagrangian/particle derivative.\r\n",
    "Intuitively, change of physical quantity on a piece of material =\r\n",
    "\r\n",
    "1. change due to time $\\frac{\\partial}{\\partial t}$ (Eulerian).\r\n",
    "2. change due to material movement ${\\rm u}\\cdot\\nabla$."
   ],
   "metadata": {
    "collapsed": false
   }
  },
  {
   "cell_type": "markdown",
   "source": [
    "#### (Incompressible) Navier-Stokes equations\r\n",
    "$$\r\n",
    "\\begin{array}{rcl}\r\n",
    "\\rho\\displaystyle\\frac{D{\\rm u}}{Dt}&=&-\\nabla p+\\mu\\nabla^{2}{\\rm u}+\\rho g \\\\\r\n",
    "\\displaystyle\\frac{D{\\rm u}}{Dt}&=&-\\displaystyle\\frac{1}{\\rho}\\nabla p+\\nu\\nabla^{2}{\\rm u}+g \\\\\r\n",
    "\\nabla \\cdot {\\rm u}&=&0\r\n",
    "\\end{array}$$\r\n",
    "<br>\r\n",
    "\r\n",
    "$\\mu$: dynamic viscosity; $\\nu=\\frac{\\mu}{\\rho}$: kinematic viscosity.<br>\r\n",
    "In graphics we usually drop **viscosity** except for highly viscous materials (e.g., honey)"
   ],
   "metadata": {
    "collapsed": false,
    "pycharm": {
     "name": "#%% md\n"
    }
   }
  },
  {
   "cell_type": "markdown",
   "source": [
    "#### Operator splitting\r\n",
    "$$\r\n",
    "\\begin{array}{rclc}\r\n",
    "\\displaystyle\\frac{D{\\rm u}}{Dt}&=&-\\displaystyle\\frac{1}{\\rho}\\nabla p+g,&\\nabla \\cdot {\\rm u}=0\r\n",
    "\\end{array}$$\r\n",
    "<br>\r\n",
    "Split the equations above into three parts:\r\n",
    "\r\n",
    "$$\r\n",
    "\\begin{array}{rcllr}\r\n",
    "\\displaystyle\\frac{D{\\rm u}}{Dt}&=&0,\\displaystyle\\frac{D\\alpha}{Dt}=0&(\\mathbf{advection})&(1) \\\\\r\n",
    "\\displaystyle\\frac{\\partial{\\rm u}}{\\partial t}&=&g&({\\rm external forces, optional})&(2) \\\\\r\n",
    "\\displaystyle\\frac{\\partial{\\rm u}}{\\partial t}&=&-\\displaystyle\\frac{1}{\\rho}\\nabla p\\qquad s.t.\\quad\\nabla \\cdot {\\rm u}=0&(\\mathbf{projection})&(3)\r\n",
    "\\end{array}$$\r\n",
    "\r\n",
    "<br>\r\n",
    "\r\n",
    "$\\alpha$: any physical property (temperature, color, smoke density etc.)"
   ],
   "metadata": {
    "collapsed": false,
    "pycharm": {
     "name": "#%% md\n"
    }
   }
  },
  {
   "cell_type": "markdown",
   "source": [
    "#### Eulerian ﬂuid simulation cycle\r\n",
    "Time discretization with splitting: for each time step,<br>\r\n",
    "1. Advection: “move” the ﬂuid feld. Solve ${\\rm u}^{*}$ using  ${\\rm u}^{t}$\r\n",
    "$$\r\n",
    "\\begin{equation}\r\n",
    "\\displaystyle\\frac{D{\\rm u}}{Dt}=0,\\displaystyle\\frac{D\\alpha}{Dt}=0\r\n",
    "\\end{equation}\r\n",
    "$$\r\n",
    "2. External forces (optional): evaluate ${\\rm u}^{**}$ using ${\\rm u}^{*}$\r\n",
    "$$\r\n",
    "\\begin{equation}\r\n",
    "\\displaystyle\\frac{\\partial{\\rm u}}{\\partial t}=g\r\n",
    "\\end{equation}\r\n",
    "$$\r\n",
    "3. Projection: make velocity field ${\\rm u}^{t+1}$ dicergence-free based on ${\\rm u}^{**}$\r\n",
    "$$\r\n",
    "\\begin{equation}\r\n",
    "\\displaystyle\\frac{\\partial{\\rm u}}{\\partial t}=-\\displaystyle\\frac{1}{\\rho}\\nabla p\\qquad s.t.\\quad\\nabla \\cdot{\\rm u}^{t+1}=0\r\n",
    "\\end{equation}\r\n",
    "$$"
   ],
   "metadata": {
    "collapsed": false,
    "pycharm": {
     "name": "#%% md\n"
    }
   }
  },
  {
   "cell_type": "markdown",
   "source": [
    "### Grid\r\n",
    "#### Spatial discretization using cell-centered grids\r\n",
    "![fig](./cell-centered-grigs.png)<br>\r\n",
    "Figure: ${\\rm u}_{x},{\\rm u}_{y},p$ are all stored at the center (orange) of cells\r\n",
    "\r\n",
    "```python\r\n",
    "import taichi as ti\r\n",
    "n, m = 3, 3\r\n",
    "u = ti.var(ti.f32, shape=(n, m)) # x-component of velocity\r\n",
    "v = ti.var(ti.f32, shape=(n, m)) # y-component of velocity\r\n",
    "p = ti.var(ti.f32, shape=(n, m)) # pressure\r\n",
    "```"
   ],
   "metadata": {
    "collapsed": false,
    "pycharm": {
     "name": "#%% md\n"
    }
   }
  },
  {
   "cell_type": "markdown",
   "source": [
    "#### Spatial discretization using staggered grids\r\n",
    "![fig](./staggered-grids.png)<br>\r\n",
    "Figure: Red: ${\\rm u}_{x}$; Green: ${\\rm u}_{y}$; Orange: $p$.\r\n",
    "```python\r\n",
    "import taichi as ti\r\n",
    "n, m = 3, 3\r\n",
    "u = ti.var(ti.f32, shape=(n+1, m)) # x-component of velocity\r\n",
    "v = ti.var(ti.f32, shape=(n, m+1)) # y-component of velocity\r\n",
    "p = ti.var(ti.f32, shape=(n, m)) # pressure\r\n",
    "```"
   ],
   "metadata": {
    "collapsed": false,
    "pycharm": {
     "name": "#%% md\n"
    }
   }
  },
  {
   "cell_type": "markdown",
   "source": [
    "#### Bilinear interpolation (双线性插值)\n",
    "See PDF."
   ],
   "metadata": {
    "collapsed": false,
    "pycharm": {
     "name": "#%% md\n"
    }
   }
  },
  {
   "cell_type": "markdown",
   "source": [
    "### Advection (对流)\n",
    "#### Advection schemes\n",
    "A trade-oﬀ between numerical viscosity, stability, performance and complexity:\n",
    "- Semi-Lagrangian advection\n",
    "- MacCormack/BFECC\n",
    "- BiMocq\n",
    "- Particle advection (PIC/FLIP/APIC/PolyPIC, later in this course)\n",
    "- ..."
   ],
   "metadata": {
    "collapsed": false,
    "pycharm": {
     "name": "#%% md\n"
    }
   }
  },
  {
   "cell_type": "markdown",
   "source": [
    "#### Semi-Lagrangian advection"
   ],
   "metadata": {
    "collapsed": false,
    "pycharm": {
     "name": "#%% md\n"
    }
   }
  }
 ],
 "metadata": {
  "kernelspec": {
   "name": "python3",
   "display_name": "Python 3.8.10 64-bit ('taichi': conda)"
  },
  "language_info": {
   "codemirror_mode": {
    "name": "ipython",
    "version": 2
   },
   "file_extension": ".py",
   "mimetype": "text/x-python",
   "name": "python",
   "nbconvert_exporter": "python",
   "pygments_lexer": "ipython2",
   "version": "3.8.10"
  },
  "interpreter": {
   "hash": "af3883a45aebe4e004790f024aee2042f06f70bffe688adbc12049bd7df574a7"
  }
 },
 "nbformat": 4,
 "nbformat_minor": 2
}